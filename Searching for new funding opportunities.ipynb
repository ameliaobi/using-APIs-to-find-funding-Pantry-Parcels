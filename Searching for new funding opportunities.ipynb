{
 "cells": [
  {
   "cell_type": "markdown",
   "id": "e159f12c",
   "metadata": {},
   "source": [
    "# Create a config praiser"
   ]
  },
  {
   "cell_type": "code",
   "execution_count": 11,
   "id": "6ecb69b6",
   "metadata": {},
   "outputs": [],
   "source": [
    "from configparser import ConfigParser\n",
    "\n",
    "#Get the configparser object\n",
    "config_object = ConfigParser()\n",
    "\n",
    "#Assume we need 2 sections in the config file, let's call them USERINFO and SERVERCONFIG\n",
    "config_object[\"twitter\"] = {\n",
    "    \"api_key\": \"TqOGkopqnhQzFygyiOh09U3P7\",\n",
    "    \"api_secret_key\": \"qinE9nGU45BcfI02ByYpaeUgL1w9j4yxDqL6NmDJrRCrSLAxt5\",\n",
    "    \"access_token\": \"1423285244602458116-Vpq1t2Rlq5PpHv4wZDjMVah3TQA3mk\",\n",
    "    \"access_token_secret\": \"tS7XhDQ8JNJSpqM2ydNt6ccQHOljvx36hINkvG2p8AXSe\"\n",
    "}"
   ]
  },
  {
   "cell_type": "code",
   "execution_count": 12,
   "id": "b98da82d",
   "metadata": {},
   "outputs": [],
   "source": [
    "#Write the above sections to config.ini file\n",
    "with open('config.ini', 'w') as conf:\n",
    "    config_object.write(conf)"
   ]
  },
  {
   "cell_type": "markdown",
   "id": "c823fb0e",
   "metadata": {},
   "source": [
    "# Import"
   ]
  },
  {
   "cell_type": "code",
   "execution_count": 13,
   "id": "991cdb2e",
   "metadata": {},
   "outputs": [],
   "source": [
    "import tweepy\n",
    "import configparser\n",
    "import pandas as pd\n",
    "\n",
    "# read configs\n",
    "config = configparser.ConfigParser()\n",
    "config.read('config.ini')\n",
    "\n",
    "api_key = config['twitter']['api_key']\n",
    "api_key_secret = config['twitter']['api_secret_key']\n",
    "\n",
    "access_token = config['twitter']['access_token']\n",
    "access_token_secret = config['twitter']['access_token_secret']\n",
    "\n",
    "# authentication\n",
    "auth = tweepy.OAuthHandler(api_key, api_key_secret)\n",
    "auth.set_access_token(access_token, access_token_secret)\n",
    "\n",
    "api = tweepy.API(auth)\n"
   ]
  },
  {
   "cell_type": "markdown",
   "id": "188e3f7b",
   "metadata": {},
   "source": [
    "## Search for funding opportunities"
   ]
  },
  {
   "cell_type": "code",
   "execution_count": 14,
   "id": "d01230c2",
   "metadata": {},
   "outputs": [],
   "source": [
    "# search tweets\n",
    "keywords = 'community', 'project', 'funding', 'UK', 'food'\n",
    "limit=300"
   ]
  },
  {
   "cell_type": "code",
   "execution_count": 15,
   "id": "1d18dfd3",
   "metadata": {},
   "outputs": [],
   "source": [
    "# Create limits on what you're searching for \n",
    "tweets = tweepy.Cursor(api.search_tweets, q=keywords, count=500, tweet_mode='extended').items(limit)"
   ]
  },
  {
   "cell_type": "code",
   "execution_count": 16,
   "id": "355f4363",
   "metadata": {},
   "outputs": [
    {
     "name": "stdout",
     "output_type": "stream",
     "text": [
      "              User                                              Tweet\n",
      "0       BristolEdu  RT @BristolFoodFund: 📢There’s just less than 2...\n",
      "1  CityFundBristol  RT @BristolFoodFund: 📢There’s just less than 2...\n",
      "2     johnstienlet  RT @BristolFoodFund: 📢There’s just less than 2...\n",
      "3          bgf2030  RT @BristolFoodFund: 📢There’s just less than 2...\n",
      "4   Bristolfoodnet  RT @BristolFoodFund: 📢There’s just less than 2...\n",
      "5  BristolFoodFund  📢There’s just less than 2 weeks to go until ap...\n"
     ]
    }
   ],
   "source": [
    "# Create a drata frame \n",
    "columns = ['User', 'Tweet']\n",
    "data = []\n",
    "\n",
    "for tweet in tweets:\n",
    "    data.append([tweet.user.screen_name, tweet.full_text])\n",
    "\n",
    "df = pd.DataFrame(data, columns=columns)\n",
    "\n",
    "print(df)"
   ]
  },
  {
   "cell_type": "code",
   "execution_count": 25,
   "id": "4ed3c3cf",
   "metadata": {
    "scrolled": true
   },
   "outputs": [
    {
     "name": "stdout",
     "output_type": "stream",
     "text": [
      "              User  \\\n",
      "0       BristolEdu   \n",
      "1  CityFundBristol   \n",
      "2     johnstienlet   \n",
      "3          bgf2030   \n",
      "4   Bristolfoodnet   \n",
      "5  BristolFoodFund   \n",
      "\n",
      "                                                                                                                                                                                                                                                                                                               Tweet  \n",
      "0                                                                                                                                                                     RT @BristolFoodFund: 📢There’s just less than 2 weeks to go until applications close for our first ever funding round.⌛️\\n\\nDo you know a comm…  \n",
      "1                                                                                                                                                                     RT @BristolFoodFund: 📢There’s just less than 2 weeks to go until applications close for our first ever funding round.⌛️\\n\\nDo you know a comm…  \n",
      "2                                                                                                                                                                     RT @BristolFoodFund: 📢There’s just less than 2 weeks to go until applications close for our first ever funding round.⌛️\\n\\nDo you know a comm…  \n",
      "3                                                                                                                                                                     RT @BristolFoodFund: 📢There’s just less than 2 weeks to go until applications close for our first ever funding round.⌛️\\n\\nDo you know a comm…  \n",
      "4                                                                                                                                                                     RT @BristolFoodFund: 📢There’s just less than 2 weeks to go until applications close for our first ever funding round.⌛️\\n\\nDo you know a comm…  \n",
      "5  📢There’s just less than 2 weeks to go until applications close for our first ever funding round.⌛️\\n\\nDo you know a community food project working to tackle food insecurity in Bristol? \\n\\nApply here:\\n➡️https://t.co/D2UXcoQVrh⬅️\\n\\nDeadline November 14th, 9am⏱️💨⏩\\n\\nPlease share! https://t.co/6vm9wra0uV  \n"
     ]
    }
   ],
   "source": [
    "pd.set_option(\"display.max_rows\", None, \"display.max_columns\", None)\n",
    "print(df)"
   ]
  },
  {
   "cell_type": "markdown",
   "id": "71e7fc00",
   "metadata": {},
   "source": [
    "## More specifically food poverty funding opportunities"
   ]
  },
  {
   "cell_type": "code",
   "execution_count": 32,
   "id": "5e0289d7",
   "metadata": {},
   "outputs": [],
   "source": [
    "# search tweets\n",
    "keywords = 'food', 'poverty', 'funding', 'UK', 'food'\n",
    "limit=300"
   ]
  },
  {
   "cell_type": "code",
   "execution_count": 33,
   "id": "43d8604d",
   "metadata": {},
   "outputs": [],
   "source": [
    "# Create limits on what you're searching for \n",
    "tweets = tweepy.Cursor(api.search_tweets, q=keywords, count=500, tweet_mode='extended').items(limit)"
   ]
  },
  {
   "cell_type": "code",
   "execution_count": 34,
   "id": "e064b796",
   "metadata": {
    "scrolled": true
   },
   "outputs": [
    {
     "name": "stdout",
     "output_type": "stream",
     "text": [
      "               User  \\\n",
      "0   AlexRoseCharity   \n",
      "1      DewiLoveluck   \n",
      "2          Wales247   \n",
      "3     lukeyspooksss   \n",
      "4    NPTTradingStds   \n",
      "5   Cllrleannejones   \n",
      "6            NPTCVS   \n",
      "7       DavidReesMS   \n",
      "8        NPTCouncil   \n",
      "9     RachealYJones   \n",
      "10         FoodHull   \n",
      "11          DAmos68   \n",
      "\n",
      "                                                                                                                                                                                                                                                      Tweet  \n",
      "0   @GrabYourSpoon @AlisonBurrellAR @Bromley_by_Bow @TheBMA We've just launched a pilot project with them Lucy and in Lambeth too. With £250k of funding from the public health teams in each borough and Impact on Urban Health. \\nhttps://t.co/8JrH3VVI5u  \n",
      "1                                                                                                            RT @NPTCouncil: Funding available to tackle food poverty in Neath Port Talbot.  \\n\\nFor further details on the funding criteria and to comple…  \n",
      "2                                                                                                                                                                     Funding available to tackle food poverty in Neath Port Talbot https://t.co/MPbAMZiEs7  \n",
      "3                                                                                                            RT @NPTCouncil: Funding available to tackle food poverty in Neath Port Talbot.  \\n\\nFor further details on the funding criteria and to comple…  \n",
      "4                                                                                                            RT @NPTCouncil: Funding available to tackle food poverty in Neath Port Talbot.  \\n\\nFor further details on the funding criteria and to comple…  \n",
      "5                                                                                                            RT @NPTCouncil: Funding available to tackle food poverty in Neath Port Talbot.  \\n\\nFor further details on the funding criteria and to comple…  \n",
      "6                                                                                                            RT @NPTCouncil: Funding available to tackle food poverty in Neath Port Talbot.  \\n\\nFor further details on the funding criteria and to comple…  \n",
      "7                                                                                                            RT @NPTCouncil: Funding available to tackle food poverty in Neath Port Talbot.  \\n\\nFor further details on the funding criteria and to comple…  \n",
      "8                                         Funding available to tackle food poverty in Neath Port Talbot.  \\n\\nFor further details on the funding criteria and to complete an application form online, go to https://t.co/tlaWesnTUI https://t.co/UOdxkYXESV  \n",
      "9                                                                                                            RT @OneKnowsley: 📣  FUNDING ALERT @KnowsleyCouncil Winter Wellness\\nGrants up to £5k are available for #KnowsleyVCFSE groups working to:\\n🔸 r…  \n",
      "10                                                                                                           RT @SAfoodforlife: This is heart breaking.\\n\\nChildren need nutritious food to thrive, yet currently 800,000 living in poverty aren't eligibl…  \n",
      "11                                                                                                           RT @SAfoodforlife: This is heart breaking.\\n\\nChildren need nutritious food to thrive, yet currently 800,000 living in poverty aren't eligibl…  \n"
     ]
    }
   ],
   "source": [
    "# Create a drata frame \n",
    "columns = ['User', 'Tweet']\n",
    "data = []\n",
    "\n",
    "for tweet in tweets:\n",
    "    data.append([tweet.user.screen_name, tweet.full_text])\n",
    "\n",
    "df2 = pd.DataFrame(data, columns=columns)\n",
    "\n",
    "print(df2)"
   ]
  },
  {
   "cell_type": "code",
   "execution_count": 35,
   "id": "22934674",
   "metadata": {
    "scrolled": false
   },
   "outputs": [
    {
     "name": "stdout",
     "output_type": "stream",
     "text": [
      "               User  \\\n",
      "0   AlexRoseCharity   \n",
      "1      DewiLoveluck   \n",
      "2          Wales247   \n",
      "3     lukeyspooksss   \n",
      "4    NPTTradingStds   \n",
      "5   Cllrleannejones   \n",
      "6            NPTCVS   \n",
      "7       DavidReesMS   \n",
      "8        NPTCouncil   \n",
      "9     RachealYJones   \n",
      "10         FoodHull   \n",
      "11          DAmos68   \n",
      "\n",
      "                                                                                                                                                                                                                                                      Tweet  \n",
      "0   @GrabYourSpoon @AlisonBurrellAR @Bromley_by_Bow @TheBMA We've just launched a pilot project with them Lucy and in Lambeth too. With £250k of funding from the public health teams in each borough and Impact on Urban Health. \\nhttps://t.co/8JrH3VVI5u  \n",
      "1                                                                                                            RT @NPTCouncil: Funding available to tackle food poverty in Neath Port Talbot.  \\n\\nFor further details on the funding criteria and to comple…  \n",
      "2                                                                                                                                                                     Funding available to tackle food poverty in Neath Port Talbot https://t.co/MPbAMZiEs7  \n",
      "3                                                                                                            RT @NPTCouncil: Funding available to tackle food poverty in Neath Port Talbot.  \\n\\nFor further details on the funding criteria and to comple…  \n",
      "4                                                                                                            RT @NPTCouncil: Funding available to tackle food poverty in Neath Port Talbot.  \\n\\nFor further details on the funding criteria and to comple…  \n",
      "5                                                                                                            RT @NPTCouncil: Funding available to tackle food poverty in Neath Port Talbot.  \\n\\nFor further details on the funding criteria and to comple…  \n",
      "6                                                                                                            RT @NPTCouncil: Funding available to tackle food poverty in Neath Port Talbot.  \\n\\nFor further details on the funding criteria and to comple…  \n",
      "7                                                                                                            RT @NPTCouncil: Funding available to tackle food poverty in Neath Port Talbot.  \\n\\nFor further details on the funding criteria and to comple…  \n",
      "8                                         Funding available to tackle food poverty in Neath Port Talbot.  \\n\\nFor further details on the funding criteria and to complete an application form online, go to https://t.co/tlaWesnTUI https://t.co/UOdxkYXESV  \n",
      "9                                                                                                            RT @OneKnowsley: 📣  FUNDING ALERT @KnowsleyCouncil Winter Wellness\\nGrants up to £5k are available for #KnowsleyVCFSE groups working to:\\n🔸 r…  \n",
      "10                                                                                                           RT @SAfoodforlife: This is heart breaking.\\n\\nChildren need nutritious food to thrive, yet currently 800,000 living in poverty aren't eligibl…  \n",
      "11                                                                                                           RT @SAfoodforlife: This is heart breaking.\\n\\nChildren need nutritious food to thrive, yet currently 800,000 living in poverty aren't eligibl…  \n"
     ]
    }
   ],
   "source": [
    "pd.set_option(\"display.max_rows\", None, \"display.max_columns\", None)\n",
    "print(df2)"
   ]
  },
  {
   "cell_type": "markdown",
   "id": "c187ec0d",
   "metadata": {},
   "source": [
    "## Funding opportunities in York"
   ]
  },
  {
   "cell_type": "code",
   "execution_count": 40,
   "id": "e7908589",
   "metadata": {},
   "outputs": [],
   "source": [
    "# search tweets\n",
    "keywords = 'community', 'funding', 'York'\n",
    "limit=300"
   ]
  },
  {
   "cell_type": "code",
   "execution_count": 41,
   "id": "ce529862",
   "metadata": {},
   "outputs": [],
   "source": [
    "# Create limits on what you're searching for \n",
    "tweets = tweepy.Cursor(api.search_tweets, q=keywords, count=500, tweet_mode='extended').items(limit)"
   ]
  },
  {
   "cell_type": "code",
   "execution_count": 42,
   "id": "b1e6752a",
   "metadata": {},
   "outputs": [
    {
     "name": "stdout",
     "output_type": "stream",
     "text": [
      "               User  \\\n",
      "0    YeatEnglishHub   \n",
      "1       RedGrizzler   \n",
      "2      OakenGroveCC   \n",
      "3           JHP1941   \n",
      "4         HANYScomm   \n",
      "5        KLChislett   \n",
      "6   azevedoanamaria   \n",
      "7     pteridophobia   \n",
      "8      _JosephSilva   \n",
      "9         SternEric   \n",
      "10      RachelMayNY   \n",
      "11           rfsuny   \n",
      "12      KeshUAlbany   \n",
      "13  ChrisThorncrof1   \n",
      "14         mnolan89   \n",
      "15       brieflyJCE   \n",
      "16      UAlbanyNews   \n",
      "17      adk_council   \n",
      "18       brieflyJCE   \n",
      "19      BasilSeggos   \n",
      "20           NYSDEC   \n",
      "\n",
      "                                                                                                                                                                                                                                                                                                                             Tweet  \n",
      "0                       ✨DO YOU NEED SUPPORT AND FUNDING? ✨\\nIs your school within North Yorkshire (+Scarborough, Whitby, Ryedale, the East Riding, York and Hambleton) and wish to become a part of the English Hub community? Visit our website &amp; complete our self-referral to see how we can help! https://t.co/dMBx1SJusc  \n",
      "1                                                                                                                                                                                     RT @OakenGroveCC: We are so thrilled to have been awarded funding as part of the Co-op 's Local Community Fund. O=The other winners were Ch…  \n",
      "2                   We are so thrilled to have been awarded funding as part of the Co-op 's Local Community Fund. O=The other winners were Churchfield Open Space Wigginton and York Inspirational Kids. Thank you to everyone who selected us as their chosen charity. #ItsWhatWeDo #HaxbyCoop  #ThankYou https://t.co/NGjG6jTZAV  \n",
      "3   Funding for this prog has been generously provided by Phillip &amp; Edith Leonian Foundation, @NYCCouncil's #Veterans Community Devt Initiative (thru NYC Dept of Youth &amp; Community Devt), @NYCulture, &amp; NYS Council on the Arts.\\n https://t.co/XoHh90JJlI\\n\\nCredit:\\nPhoto by Stephen Siulc https://t.co/83uDKNHLMC  \n",
      "4                                           What does it take to be designated Age-Friendly? \\nFind out Nov. 7! \\nLearn about our 2023 NY Age-Friendly Action Community and New York Geriatric ED Accreditation Collaboratives, including enrollment and funding opportunities. \\nLearn more and register: https://t.co/eVTAjZkuAr  \n",
      "5                                                                                                                                                                                     RT @_JosephSilva: We’re looking to hire a terrific finance professional with interest and experience in governmental / non-profit sector to…  \n",
      "6                                                                                                                                                                                     RT @_JosephSilva: We’re looking to hire a terrific finance professional with interest and experience in governmental / non-profit sector to…  \n",
      "7                                                                                                   please donate/share if you can! the New York African Film Festival has been a cultural staple and very meaningful event for the city’s community, and they need funding to continue their legacy :)\\n\\nhttps://t.co/ZMH0d5VFim  \n",
      "8                                                    We’re looking to hire a terrific finance professional with interest and experience in governmental / non-profit sector to join our Community Investments team. Check out this job at York Region (The Regional Municipality of York): Funding Analyst https://t.co/8Fn0SqttHU  \n",
      "9                                                                                                                                                                                 RT @UAlbanyNews: NEWS: The @EPA has announced $53.4 million in funding through @POTUS Inflation Reduction Act &amp; American Rescue Plan to enh…  \n",
      "10                                          CNY's art community adds so much to our quality of life. I’m proud to have advocated for additional funding for the arts during the budget process, and I’m excited to see how the $1 million for @CNYarts will further support our flourishing art community. https://t.co/VmeC6UOJRY  \n",
      "11                                                                                                                                                                                RT @UAlbanyNews: NEWS: The @EPA has announced $53.4 million in funding through @POTUS Inflation Reduction Act &amp; American Rescue Plan to enh…  \n",
      "12                                                                                                                                                                                RT @UAlbanyNews: NEWS: The @EPA has announced $53.4 million in funding through @POTUS Inflation Reduction Act &amp; American Rescue Plan to enh…  \n",
      "13                                                                                                                                                                                RT @UAlbanyNews: NEWS: The @EPA has announced $53.4 million in funding through @POTUS Inflation Reduction Act &amp; American Rescue Plan to enh…  \n",
      "14                                                                                                                                                                                RT @UAlbanyNews: NEWS: The @EPA has announced $53.4 million in funding through @POTUS Inflation Reduction Act &amp; American Rescue Plan to enh…  \n",
      "15                                                                                                                                                                                RT @UAlbanyNews: NEWS: The @EPA has announced $53.4 million in funding through @POTUS Inflation Reduction Act &amp; American Rescue Plan to enh…  \n",
      "16                                       NEWS: The @EPA has announced $53.4 million in funding through @POTUS Inflation Reduction Act &amp; American Rescue Plan to enhance air quality monitoring in communities across the U.S., including projects led by @UAlbanyASRC &amp; @UAlbanyCEAS researchers.\\nhttps://t.co/4M9qzNJLmZ  \n",
      "17                                                                                                                                                                                    RT @BasilSeggos: Congratulations to our partners for receiving EPA funding awards, including @rhookinitiative @rfsuny @srm_tribe @ualbany @…  \n",
      "18                                                                                                                                                                                    RT @BasilSeggos: Congratulations to our partners for receiving EPA funding awards, including @rhookinitiative @rfsuny @srm_tribe @ualbany @…  \n",
      "19                                                                                                                                  Congratulations to our partners for receiving EPA funding awards, including @rhookinitiative @rfsuny @srm_tribe @ualbany @officialympj and Onondaga Lake Cleanup Corp. https://t.co/Vp1iIz8Qmt  \n",
      "20                                                                                DEC thanks our partners @EPA for newest investment in New York's air quality: https://t.co/vjAyweSOiq\\n\\nStatement from NYS DEC Commissioner @BasilSeggos on EPA Funding for New York State for Air Monitoring Projects: https://t.co/4w8ddKDqQb  \n"
     ]
    }
   ],
   "source": [
    "# Create a drata frame \n",
    "columns = ['User', 'Tweet']\n",
    "data = []\n",
    "\n",
    "for tweet in tweets:\n",
    "    data.append([tweet.user.screen_name, tweet.full_text])\n",
    "\n",
    "df3 = pd.DataFrame(data, columns=columns)\n",
    "\n",
    "print(df3)"
   ]
  },
  {
   "cell_type": "code",
   "execution_count": 43,
   "id": "e03b69c3",
   "metadata": {
    "scrolled": true
   },
   "outputs": [
    {
     "name": "stdout",
     "output_type": "stream",
     "text": [
      "               User  \\\n",
      "0    YeatEnglishHub   \n",
      "1       RedGrizzler   \n",
      "2      OakenGroveCC   \n",
      "3           JHP1941   \n",
      "4         HANYScomm   \n",
      "5        KLChislett   \n",
      "6   azevedoanamaria   \n",
      "7     pteridophobia   \n",
      "8      _JosephSilva   \n",
      "9         SternEric   \n",
      "10      RachelMayNY   \n",
      "11           rfsuny   \n",
      "12      KeshUAlbany   \n",
      "13  ChrisThorncrof1   \n",
      "14         mnolan89   \n",
      "15       brieflyJCE   \n",
      "16      UAlbanyNews   \n",
      "17      adk_council   \n",
      "18       brieflyJCE   \n",
      "19      BasilSeggos   \n",
      "20           NYSDEC   \n",
      "\n",
      "                                                                                                                                                                                                                                                                                                                             Tweet  \n",
      "0                       ✨DO YOU NEED SUPPORT AND FUNDING? ✨\\nIs your school within North Yorkshire (+Scarborough, Whitby, Ryedale, the East Riding, York and Hambleton) and wish to become a part of the English Hub community? Visit our website &amp; complete our self-referral to see how we can help! https://t.co/dMBx1SJusc  \n",
      "1                                                                                                                                                                                     RT @OakenGroveCC: We are so thrilled to have been awarded funding as part of the Co-op 's Local Community Fund. O=The other winners were Ch…  \n",
      "2                   We are so thrilled to have been awarded funding as part of the Co-op 's Local Community Fund. O=The other winners were Churchfield Open Space Wigginton and York Inspirational Kids. Thank you to everyone who selected us as their chosen charity. #ItsWhatWeDo #HaxbyCoop  #ThankYou https://t.co/NGjG6jTZAV  \n",
      "3   Funding for this prog has been generously provided by Phillip &amp; Edith Leonian Foundation, @NYCCouncil's #Veterans Community Devt Initiative (thru NYC Dept of Youth &amp; Community Devt), @NYCulture, &amp; NYS Council on the Arts.\\n https://t.co/XoHh90JJlI\\n\\nCredit:\\nPhoto by Stephen Siulc https://t.co/83uDKNHLMC  \n",
      "4                                           What does it take to be designated Age-Friendly? \\nFind out Nov. 7! \\nLearn about our 2023 NY Age-Friendly Action Community and New York Geriatric ED Accreditation Collaboratives, including enrollment and funding opportunities. \\nLearn more and register: https://t.co/eVTAjZkuAr  \n",
      "5                                                                                                                                                                                     RT @_JosephSilva: We’re looking to hire a terrific finance professional with interest and experience in governmental / non-profit sector to…  \n",
      "6                                                                                                                                                                                     RT @_JosephSilva: We’re looking to hire a terrific finance professional with interest and experience in governmental / non-profit sector to…  \n",
      "7                                                                                                   please donate/share if you can! the New York African Film Festival has been a cultural staple and very meaningful event for the city’s community, and they need funding to continue their legacy :)\\n\\nhttps://t.co/ZMH0d5VFim  \n",
      "8                                                    We’re looking to hire a terrific finance professional with interest and experience in governmental / non-profit sector to join our Community Investments team. Check out this job at York Region (The Regional Municipality of York): Funding Analyst https://t.co/8Fn0SqttHU  \n",
      "9                                                                                                                                                                                 RT @UAlbanyNews: NEWS: The @EPA has announced $53.4 million in funding through @POTUS Inflation Reduction Act &amp; American Rescue Plan to enh…  \n",
      "10                                          CNY's art community adds so much to our quality of life. I’m proud to have advocated for additional funding for the arts during the budget process, and I’m excited to see how the $1 million for @CNYarts will further support our flourishing art community. https://t.co/VmeC6UOJRY  \n",
      "11                                                                                                                                                                                RT @UAlbanyNews: NEWS: The @EPA has announced $53.4 million in funding through @POTUS Inflation Reduction Act &amp; American Rescue Plan to enh…  \n",
      "12                                                                                                                                                                                RT @UAlbanyNews: NEWS: The @EPA has announced $53.4 million in funding through @POTUS Inflation Reduction Act &amp; American Rescue Plan to enh…  \n",
      "13                                                                                                                                                                                RT @UAlbanyNews: NEWS: The @EPA has announced $53.4 million in funding through @POTUS Inflation Reduction Act &amp; American Rescue Plan to enh…  \n",
      "14                                                                                                                                                                                RT @UAlbanyNews: NEWS: The @EPA has announced $53.4 million in funding through @POTUS Inflation Reduction Act &amp; American Rescue Plan to enh…  \n",
      "15                                                                                                                                                                                RT @UAlbanyNews: NEWS: The @EPA has announced $53.4 million in funding through @POTUS Inflation Reduction Act &amp; American Rescue Plan to enh…  \n",
      "16                                       NEWS: The @EPA has announced $53.4 million in funding through @POTUS Inflation Reduction Act &amp; American Rescue Plan to enhance air quality monitoring in communities across the U.S., including projects led by @UAlbanyASRC &amp; @UAlbanyCEAS researchers.\\nhttps://t.co/4M9qzNJLmZ  \n",
      "17                                                                                                                                                                                    RT @BasilSeggos: Congratulations to our partners for receiving EPA funding awards, including @rhookinitiative @rfsuny @srm_tribe @ualbany @…  \n",
      "18                                                                                                                                                                                    RT @BasilSeggos: Congratulations to our partners for receiving EPA funding awards, including @rhookinitiative @rfsuny @srm_tribe @ualbany @…  \n",
      "19                                                                                                                                  Congratulations to our partners for receiving EPA funding awards, including @rhookinitiative @rfsuny @srm_tribe @ualbany @officialympj and Onondaga Lake Cleanup Corp. https://t.co/Vp1iIz8Qmt  \n",
      "20                                                                                DEC thanks our partners @EPA for newest investment in New York's air quality: https://t.co/vjAyweSOiq\\n\\nStatement from NYS DEC Commissioner @BasilSeggos on EPA Funding for New York State for Air Monitoring Projects: https://t.co/4w8ddKDqQb  \n"
     ]
    }
   ],
   "source": [
    "pd.set_option(\"display.max_rows\", None, \"display.max_columns\", None)\n",
    "print(df3)"
   ]
  }
 ],
 "metadata": {
  "kernelspec": {
   "display_name": "Python 3 (ipykernel)",
   "language": "python",
   "name": "python3"
  },
  "language_info": {
   "codemirror_mode": {
    "name": "ipython",
    "version": 3
   },
   "file_extension": ".py",
   "mimetype": "text/x-python",
   "name": "python",
   "nbconvert_exporter": "python",
   "pygments_lexer": "ipython3",
   "version": "3.9.12"
  }
 },
 "nbformat": 4,
 "nbformat_minor": 5
}
